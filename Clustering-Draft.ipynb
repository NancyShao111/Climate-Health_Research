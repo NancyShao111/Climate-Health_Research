{
 "cells": [
  {
   "cell_type": "code",
   "execution_count": 1,
   "metadata": {},
   "outputs": [],
   "source": [
    "import pandas as pd\n",
    "from sklearn.cluster import KMeans\n",
    "from sklearn.decomposition import PCA\n",
    "import matplotlib.pyplot as plt\n",
    "final = pd.read_csv('final data-Malavika.csv')"
   ]
  },
  {
   "cell_type": "code",
   "execution_count": 2,
   "metadata": {},
   "outputs": [
    {
     "data": {
      "text/html": [
       "<div>\n",
       "<style scoped>\n",
       "    .dataframe tbody tr th:only-of-type {\n",
       "        vertical-align: middle;\n",
       "    }\n",
       "\n",
       "    .dataframe tbody tr th {\n",
       "        vertical-align: top;\n",
       "    }\n",
       "\n",
       "    .dataframe thead th {\n",
       "        text-align: right;\n",
       "    }\n",
       "</style>\n",
       "<table border=\"1\" class=\"dataframe\">\n",
       "  <thead>\n",
       "    <tr style=\"text-align: right;\">\n",
       "      <th></th>\n",
       "      <th>STATE</th>\n",
       "      <th>Year</th>\n",
       "      <th>CO2</th>\n",
       "      <th>CH4</th>\n",
       "      <th>N2O</th>\n",
       "      <th>Fluorinated GHG</th>\n",
       "      <th>Incentives</th>\n",
       "      <th>Laws and Regulations</th>\n",
       "      <th>State Incentives</th>\n",
       "      <th>Utility/Private Incentives</th>\n",
       "      <th>Programs</th>\n",
       "      <th>State Hybrid Incentives</th>\n",
       "      <th>Ozone</th>\n",
       "    </tr>\n",
       "  </thead>\n",
       "  <tbody>\n",
       "    <tr>\n",
       "      <th>0</th>\n",
       "      <td>AL</td>\n",
       "      <td>2012</td>\n",
       "      <td>84138381</td>\n",
       "      <td>701702</td>\n",
       "      <td>602778</td>\n",
       "      <td>264437.0</td>\n",
       "      <td>0</td>\n",
       "      <td>3</td>\n",
       "      <td>7</td>\n",
       "      <td>4</td>\n",
       "      <td>0</td>\n",
       "      <td>0</td>\n",
       "      <td>0.044215</td>\n",
       "    </tr>\n",
       "    <tr>\n",
       "      <th>1</th>\n",
       "      <td>AL</td>\n",
       "      <td>2013</td>\n",
       "      <td>83297945</td>\n",
       "      <td>594388</td>\n",
       "      <td>451420</td>\n",
       "      <td>274194.0</td>\n",
       "      <td>0</td>\n",
       "      <td>3</td>\n",
       "      <td>7</td>\n",
       "      <td>4</td>\n",
       "      <td>0</td>\n",
       "      <td>0</td>\n",
       "      <td>0.039733</td>\n",
       "    </tr>\n",
       "    <tr>\n",
       "      <th>2</th>\n",
       "      <td>AL</td>\n",
       "      <td>2014</td>\n",
       "      <td>84847355</td>\n",
       "      <td>634009</td>\n",
       "      <td>525399</td>\n",
       "      <td>312201.0</td>\n",
       "      <td>0</td>\n",
       "      <td>3</td>\n",
       "      <td>7</td>\n",
       "      <td>4</td>\n",
       "      <td>0</td>\n",
       "      <td>0</td>\n",
       "      <td>0.040936</td>\n",
       "    </tr>\n",
       "    <tr>\n",
       "      <th>3</th>\n",
       "      <td>AL</td>\n",
       "      <td>2015</td>\n",
       "      <td>82143007</td>\n",
       "      <td>611595</td>\n",
       "      <td>462661</td>\n",
       "      <td>263031.0</td>\n",
       "      <td>0</td>\n",
       "      <td>3</td>\n",
       "      <td>7</td>\n",
       "      <td>3</td>\n",
       "      <td>0</td>\n",
       "      <td>0</td>\n",
       "      <td>0.039063</td>\n",
       "    </tr>\n",
       "    <tr>\n",
       "      <th>4</th>\n",
       "      <td>AL</td>\n",
       "      <td>2016</td>\n",
       "      <td>75103394</td>\n",
       "      <td>550119</td>\n",
       "      <td>528136</td>\n",
       "      <td>302584.0</td>\n",
       "      <td>0</td>\n",
       "      <td>3</td>\n",
       "      <td>6</td>\n",
       "      <td>2</td>\n",
       "      <td>0</td>\n",
       "      <td>0</td>\n",
       "      <td>0.042845</td>\n",
       "    </tr>\n",
       "  </tbody>\n",
       "</table>\n",
       "</div>"
      ],
      "text/plain": [
       "  STATE  Year       CO2     CH4     N2O  Fluorinated GHG  Incentives  \\\n",
       "0    AL  2012  84138381  701702  602778         264437.0           0   \n",
       "1    AL  2013  83297945  594388  451420         274194.0           0   \n",
       "2    AL  2014  84847355  634009  525399         312201.0           0   \n",
       "3    AL  2015  82143007  611595  462661         263031.0           0   \n",
       "4    AL  2016  75103394  550119  528136         302584.0           0   \n",
       "\n",
       "   Laws and Regulations  State Incentives  Utility/Private Incentives  \\\n",
       "0                     3                 7                           4   \n",
       "1                     3                 7                           4   \n",
       "2                     3                 7                           4   \n",
       "3                     3                 7                           3   \n",
       "4                     3                 6                           2   \n",
       "\n",
       "   Programs  State Hybrid Incentives     Ozone  \n",
       "0         0                        0  0.044215  \n",
       "1         0                        0  0.039733  \n",
       "2         0                        0  0.040936  \n",
       "3         0                        0  0.039063  \n",
       "4         0                        0  0.042845  "
      ]
     },
     "execution_count": 2,
     "metadata": {},
     "output_type": "execute_result"
    }
   ],
   "source": [
    "final.head()"
   ]
  },
  {
   "cell_type": "code",
   "execution_count": 3,
   "metadata": {},
   "outputs": [
    {
     "name": "stdout",
     "output_type": "stream",
     "text": [
      "<class 'pandas.core.frame.DataFrame'>\n",
      "RangeIndex: 350 entries, 0 to 349\n",
      "Data columns (total 13 columns):\n",
      " #   Column                      Non-Null Count  Dtype  \n",
      "---  ------                      --------------  -----  \n",
      " 0   STATE                       350 non-null    object \n",
      " 1   Year                        350 non-null    int64  \n",
      " 2   CO2                         350 non-null    int64  \n",
      " 3   CH4                         350 non-null    int64  \n",
      " 4   N2O                         350 non-null    int64  \n",
      " 5   Fluorinated GHG             112 non-null    float64\n",
      " 6   Incentives                  350 non-null    int64  \n",
      " 7   Laws and Regulations        350 non-null    int64  \n",
      " 8   State Incentives            350 non-null    int64  \n",
      " 9   Utility/Private Incentives  350 non-null    int64  \n",
      " 10  Programs                    350 non-null    int64  \n",
      " 11  State Hybrid Incentives     350 non-null    int64  \n",
      " 12  Ozone                       350 non-null    float64\n",
      "dtypes: float64(2), int64(10), object(1)\n",
      "memory usage: 35.7+ KB\n"
     ]
    },
    {
     "name": "stderr",
     "output_type": "stream",
     "text": [
      "/opt/miniconda3/lib/python3.7/site-packages/ipykernel_launcher.py:3: FutureWarning: Indexing with multiple keys (implicitly converted to a tuple of keys) will be deprecated, use a list instead.\n",
      "  This is separate from the ipykernel package so we can avoid doing imports until\n"
     ]
    }
   ],
   "source": [
    "final.info()\n",
    "modified_final = pd.DataFrame(columns=['avgCO2','avgCH4','avgN2O','avgOzone'])\n",
    "modified_final = final.groupby('STATE')['CO2','CH4','N2O','Ozone'].mean()"
   ]
  },
  {
   "cell_type": "code",
   "execution_count": 4,
   "metadata": {},
   "outputs": [
    {
     "name": "stdout",
     "output_type": "stream",
     "text": [
      "<class 'pandas.core.frame.DataFrame'>\n",
      "Index: 49 entries, AK to WY\n",
      "Data columns (total 4 columns):\n",
      " #   Column  Non-Null Count  Dtype  \n",
      "---  ------  --------------  -----  \n",
      " 0   CO2     49 non-null     float64\n",
      " 1   CH4     49 non-null     float64\n",
      " 2   N2O     49 non-null     float64\n",
      " 3   Ozone   49 non-null     float64\n",
      "dtypes: float64(4)\n",
      "memory usage: 1.9+ KB\n"
     ]
    }
   ],
   "source": [
    "modified_final.info()"
   ]
  },
  {
   "cell_type": "code",
   "execution_count": 5,
   "metadata": {},
   "outputs": [
    {
     "data": {
      "text/html": [
       "<div>\n",
       "<style scoped>\n",
       "    .dataframe tbody tr th:only-of-type {\n",
       "        vertical-align: middle;\n",
       "    }\n",
       "\n",
       "    .dataframe tbody tr th {\n",
       "        vertical-align: top;\n",
       "    }\n",
       "\n",
       "    .dataframe thead th {\n",
       "        text-align: right;\n",
       "    }\n",
       "</style>\n",
       "<table border=\"1\" class=\"dataframe\">\n",
       "  <thead>\n",
       "    <tr style=\"text-align: right;\">\n",
       "      <th></th>\n",
       "      <th>CO2</th>\n",
       "      <th>CH4</th>\n",
       "      <th>N2O</th>\n",
       "      <th>Ozone</th>\n",
       "    </tr>\n",
       "    <tr>\n",
       "      <th>STATE</th>\n",
       "      <th></th>\n",
       "      <th></th>\n",
       "      <th></th>\n",
       "      <th></th>\n",
       "    </tr>\n",
       "  </thead>\n",
       "  <tbody>\n",
       "    <tr>\n",
       "      <th>AK</th>\n",
       "      <td>1.497560e+07</td>\n",
       "      <td>1.990749e+05</td>\n",
       "      <td>14618.714286</td>\n",
       "      <td>0.027972</td>\n",
       "    </tr>\n",
       "    <tr>\n",
       "      <th>AL</th>\n",
       "      <td>7.890785e+07</td>\n",
       "      <td>6.005120e+05</td>\n",
       "      <td>479080.857143</td>\n",
       "      <td>0.040935</td>\n",
       "    </tr>\n",
       "    <tr>\n",
       "      <th>AR</th>\n",
       "      <td>3.934708e+07</td>\n",
       "      <td>2.800404e+05</td>\n",
       "      <td>560996.571429</td>\n",
       "      <td>0.041204</td>\n",
       "    </tr>\n",
       "    <tr>\n",
       "      <th>AZ</th>\n",
       "      <td>5.410111e+07</td>\n",
       "      <td>2.424970e+05</td>\n",
       "      <td>584756.142857</td>\n",
       "      <td>0.048495</td>\n",
       "    </tr>\n",
       "    <tr>\n",
       "      <th>CA</th>\n",
       "      <td>9.227830e+07</td>\n",
       "      <td>1.910732e+06</td>\n",
       "      <td>128908.285714</td>\n",
       "      <td>0.044069</td>\n",
       "    </tr>\n",
       "  </tbody>\n",
       "</table>\n",
       "</div>"
      ],
      "text/plain": [
       "                CO2           CH4            N2O     Ozone\n",
       "STATE                                                     \n",
       "AK     1.497560e+07  1.990749e+05   14618.714286  0.027972\n",
       "AL     7.890785e+07  6.005120e+05  479080.857143  0.040935\n",
       "AR     3.934708e+07  2.800404e+05  560996.571429  0.041204\n",
       "AZ     5.410111e+07  2.424970e+05  584756.142857  0.048495\n",
       "CA     9.227830e+07  1.910732e+06  128908.285714  0.044069"
      ]
     },
     "execution_count": 5,
     "metadata": {},
     "output_type": "execute_result"
    }
   ],
   "source": [
    "modified_final.head()"
   ]
  },
  {
   "cell_type": "code",
   "execution_count": 6,
   "metadata": {},
   "outputs": [
    {
     "data": {
      "text/plain": [
       "STATE                           0\n",
       "Year                            0\n",
       "CO2                             0\n",
       "CH4                             0\n",
       "N2O                             0\n",
       "Fluorinated GHG               238\n",
       "Incentives                      0\n",
       "Laws and Regulations            0\n",
       "State Incentives                0\n",
       "Utility/Private Incentives      0\n",
       "Programs                        0\n",
       "State Hybrid Incentives         0\n",
       "Ozone                           0\n",
       "dtype: int64"
      ]
     },
     "execution_count": 6,
     "metadata": {},
     "output_type": "execute_result"
    }
   ],
   "source": [
    "final.isnull().sum(axis = 0)"
   ]
  },
  {
   "cell_type": "code",
   "execution_count": 7,
   "metadata": {},
   "outputs": [],
   "source": [
    "mean = final['Ozone'].mean()\n",
    "final['Ozone'] = final['Ozone'].fillna(mean)"
   ]
  },
  {
   "cell_type": "code",
   "execution_count": 8,
   "metadata": {},
   "outputs": [
    {
     "data": {
      "text/plain": [
       "STATE                           0\n",
       "Year                            0\n",
       "CO2                             0\n",
       "CH4                             0\n",
       "N2O                             0\n",
       "Fluorinated GHG               238\n",
       "Incentives                      0\n",
       "Laws and Regulations            0\n",
       "State Incentives                0\n",
       "Utility/Private Incentives      0\n",
       "Programs                        0\n",
       "State Hybrid Incentives         0\n",
       "Ozone                           0\n",
       "dtype: int64"
      ]
     },
     "execution_count": 8,
     "metadata": {},
     "output_type": "execute_result"
    }
   ],
   "source": [
    "final.isnull().sum(axis = 0)"
   ]
  },
  {
   "cell_type": "code",
   "execution_count": 9,
   "metadata": {},
   "outputs": [
    {
     "data": {
      "text/plain": [
       "Ozone\n",
       "0.025783    1\n",
       "0.026813    1\n",
       "0.027041    1\n",
       "0.027240    1\n",
       "0.027371    1\n",
       "           ..\n",
       "0.052429    1\n",
       "0.053415    1\n",
       "0.054178    1\n",
       "0.056174    1\n",
       "0.057066    1\n",
       "Length: 343, dtype: int64"
      ]
     },
     "execution_count": 9,
     "metadata": {},
     "output_type": "execute_result"
    }
   ],
   "source": [
    "final.pivot_table(index=['Ozone'], aggfunc='size')"
   ]
  },
  {
   "cell_type": "code",
   "execution_count": 10,
   "metadata": {},
   "outputs": [
    {
     "data": {
      "text/plain": [
       "N2O\n",
       "21          2\n",
       "22          1\n",
       "76          2\n",
       "124         1\n",
       "1461        1\n",
       "           ..\n",
       "4994554     1\n",
       "5739976     1\n",
       "7524030     1\n",
       "7748239     1\n",
       "10807191    1\n",
       "Length: 340, dtype: int64"
      ]
     },
     "execution_count": 10,
     "metadata": {},
     "output_type": "execute_result"
    }
   ],
   "source": [
    "final.pivot_table(index=['N2O'], aggfunc='size')"
   ]
  },
  {
   "cell_type": "code",
   "execution_count": 11,
   "metadata": {},
   "outputs": [
    {
     "name": "stdout",
     "output_type": "stream",
     "text": [
      "<class 'pandas.core.frame.DataFrame'>\n",
      "RangeIndex: 350 entries, 0 to 349\n",
      "Data columns (total 13 columns):\n",
      " #   Column                      Non-Null Count  Dtype  \n",
      "---  ------                      --------------  -----  \n",
      " 0   STATE                       350 non-null    object \n",
      " 1   Year                        350 non-null    int64  \n",
      " 2   CO2                         350 non-null    int64  \n",
      " 3   CH4                         350 non-null    int64  \n",
      " 4   N2O                         350 non-null    int64  \n",
      " 5   Fluorinated GHG             112 non-null    float64\n",
      " 6   Incentives                  350 non-null    int64  \n",
      " 7   Laws and Regulations        350 non-null    int64  \n",
      " 8   State Incentives            350 non-null    int64  \n",
      " 9   Utility/Private Incentives  350 non-null    int64  \n",
      " 10  Programs                    350 non-null    int64  \n",
      " 11  State Hybrid Incentives     350 non-null    int64  \n",
      " 12  Ozone                       350 non-null    float64\n",
      "dtypes: float64(2), int64(10), object(1)\n",
      "memory usage: 35.7+ KB\n"
     ]
    }
   ],
   "source": [
    "final.info()"
   ]
  },
  {
   "cell_type": "code",
   "execution_count": 12,
   "metadata": {},
   "outputs": [
    {
     "data": {
      "text/plain": [
       "7"
      ]
     },
     "execution_count": 12,
     "metadata": {},
     "output_type": "execute_result"
    }
   ],
   "source": [
    "sum(final.duplicated())"
   ]
  },
  {
   "cell_type": "code",
   "execution_count": 13,
   "metadata": {},
   "outputs": [
    {
     "data": {
      "text/plain": [
       "KMeans(n_clusters=3)"
      ]
     },
     "execution_count": 13,
     "metadata": {},
     "output_type": "execute_result"
    }
   ],
   "source": [
    "model = KMeans(n_clusters=3)\n",
    "model.fit(final[['CO2','Ozone']]) "
   ]
  },
  {
   "cell_type": "code",
   "execution_count": 14,
   "metadata": {},
   "outputs": [],
   "source": [
    "labels = model.predict(final[['CO2','Ozone']])"
   ]
  },
  {
   "cell_type": "code",
   "execution_count": 15,
   "metadata": {},
   "outputs": [
    {
     "name": "stdout",
     "output_type": "stream",
     "text": [
      "[0 0 0 0 0 0 0 1 1 1 1 1 1 1 1 1 1 1 1 1 1 1 1 1 1 1 1 1 0 0 0 0 0 0 0 1 1\n",
      " 1 1 1 1 1 1 1 1 1 1 1 1 1 1 1 1 1 1 1 0 0 0 0 0 0 0 0 0 0 0 0 0 0 1 1 1 1\n",
      " 1 1 1 1 1 1 1 1 1 1 0 0 0 0 0 0 0 0 0 0 0 0 0 0 1 1 1 1 1 1 1 1 1 1 1 1 1\n",
      " 1 0 0 0 0 0 0 0 0 0 0 0 0 0 0 1 1 1 1 1 1 1 1 1 1 1 1 1 1 1 1 1 1 1 1 1 0\n",
      " 0 0 0 0 0 0 1 1 1 1 1 1 1 0 0 0 0 0 0 0 1 1 1 1 1 1 1 1 1 1 1 1 1 1 1 1 1\n",
      " 1 1 1 1 1 1 1 1 1 1 1 1 1 1 1 1 1 1 1 1 1 1 1 1 1 1 1 1 1 1 1 1 1 1 1 1 1\n",
      " 1 1 1 1 1 1 1 1 1 1 1 1 1 1 1 1 0 0 0 0 0 0 0 0 0 0 1 1 1 1 1 1 1 1 1 1 1\n",
      " 0 0 0 0 0 0 0 1 1 1 1 1 1 1 1 1 1 1 1 1 1 1 1 1 1 1 1 1 1 1 1 1 1 1 1 2 2\n",
      " 2 2 2 2 2 1 1 1 1 1 1 1 1 1 1 1 1 1 1 1 1 1 1 1 1 1 1 1 1 1 1 1 1 0 0 0 0\n",
      " 0 0 0 1 1 1 1 1 1 1 0 0 0 0 1 1 1]\n"
     ]
    }
   ],
   "source": [
    "print(labels)"
   ]
  },
  {
   "cell_type": "code",
   "execution_count": 16,
   "metadata": {},
   "outputs": [
    {
     "data": {
      "image/png": "[encoded data removed]",
      "text/plain": [
       "<Figure size 432x288 with 1 Axes>"
      ]
     },
     "metadata": {
      "needs_background": "light"
     },
     "output_type": "display_data"
    }
   ],
   "source": [
    "xs = final['CO2'] \n",
    "ys = final['Ozone']\n",
    "plt.scatter(xs, ys, c=labels)\n",
    "plt.show()"
   ]
  },
  {
   "cell_type": "code",
   "execution_count": 17,
   "metadata": {},
   "outputs": [
    {
     "name": "stdout",
     "output_type": "stream",
     "text": [
      "[0 2 0 0 2 0 0 0 2 2 0 0 0 2 2 0 2 2 0 0 0 2 2 0 0 0 0 0 0 0 0 0 0 2 0 0 2\n",
      " 0 0 0 0 1 0 0 0 0 0 2 0]\n"
     ]
    }
   ],
   "source": [
    "model1 = KMeans(n_clusters=3)\n",
    "model1.fit(modified_final[['CO2','Ozone','CH4','N2O']]) \n",
    "labels1 = model1.predict(modified_final[['CO2','Ozone','CH4','N2O']])\n",
    "modified_final['clusters'] = labels1\n",
    "print(labels1)"
   ]
  },
  {
   "cell_type": "code",
   "execution_count": 18,
   "metadata": {},
   "outputs": [
    {
     "data": {
      "text/html": [
       "<div>\n",
       "<style scoped>\n",
       "    .dataframe tbody tr th:only-of-type {\n",
       "        vertical-align: middle;\n",
       "    }\n",
       "\n",
       "    .dataframe tbody tr th {\n",
       "        vertical-align: top;\n",
       "    }\n",
       "\n",
       "    .dataframe thead th {\n",
       "        text-align: right;\n",
       "    }\n",
       "</style>\n",
       "<table border=\"1\" class=\"dataframe\">\n",
       "  <thead>\n",
       "    <tr style=\"text-align: right;\">\n",
       "      <th></th>\n",
       "      <th>CO2</th>\n",
       "      <th>CH4</th>\n",
       "      <th>N2O</th>\n",
       "      <th>Ozone</th>\n",
       "      <th>clusters</th>\n",
       "    </tr>\n",
       "    <tr>\n",
       "      <th>STATE</th>\n",
       "      <th></th>\n",
       "      <th></th>\n",
       "      <th></th>\n",
       "      <th></th>\n",
       "      <th></th>\n",
       "    </tr>\n",
       "  </thead>\n",
       "  <tbody>\n",
       "    <tr>\n",
       "      <th>AK</th>\n",
       "      <td>1.497560e+07</td>\n",
       "      <td>1.990749e+05</td>\n",
       "      <td>14618.714286</td>\n",
       "      <td>0.027972</td>\n",
       "      <td>0</td>\n",
       "    </tr>\n",
       "    <tr>\n",
       "      <th>AL</th>\n",
       "      <td>7.890785e+07</td>\n",
       "      <td>6.005120e+05</td>\n",
       "      <td>479080.857143</td>\n",
       "      <td>0.040935</td>\n",
       "      <td>2</td>\n",
       "    </tr>\n",
       "    <tr>\n",
       "      <th>AR</th>\n",
       "      <td>3.934708e+07</td>\n",
       "      <td>2.800404e+05</td>\n",
       "      <td>560996.571429</td>\n",
       "      <td>0.041204</td>\n",
       "      <td>0</td>\n",
       "    </tr>\n",
       "    <tr>\n",
       "      <th>AZ</th>\n",
       "      <td>5.410111e+07</td>\n",
       "      <td>2.424970e+05</td>\n",
       "      <td>584756.142857</td>\n",
       "      <td>0.048495</td>\n",
       "      <td>0</td>\n",
       "    </tr>\n",
       "    <tr>\n",
       "      <th>CA</th>\n",
       "      <td>9.227830e+07</td>\n",
       "      <td>1.910732e+06</td>\n",
       "      <td>128908.285714</td>\n",
       "      <td>0.044069</td>\n",
       "      <td>2</td>\n",
       "    </tr>\n",
       "  </tbody>\n",
       "</table>\n",
       "</div>"
      ],
      "text/plain": [
       "                CO2           CH4            N2O     Ozone  clusters\n",
       "STATE                                                               \n",
       "AK     1.497560e+07  1.990749e+05   14618.714286  0.027972         0\n",
       "AL     7.890785e+07  6.005120e+05  479080.857143  0.040935         2\n",
       "AR     3.934708e+07  2.800404e+05  560996.571429  0.041204         0\n",
       "AZ     5.410111e+07  2.424970e+05  584756.142857  0.048495         0\n",
       "CA     9.227830e+07  1.910732e+06  128908.285714  0.044069         2"
      ]
     },
     "execution_count": 18,
     "metadata": {},
     "output_type": "execute_result"
    }
   ],
   "source": [
    "modified_final.head()"
   ]
  },
  {
   "cell_type": "code",
   "execution_count": 19,
   "metadata": {},
   "outputs": [
    {
     "data": {
      "text/html": [
       "<div>\n",
       "<style scoped>\n",
       "    .dataframe tbody tr th:only-of-type {\n",
       "        vertical-align: middle;\n",
       "    }\n",
       "\n",
       "    .dataframe tbody tr th {\n",
       "        vertical-align: top;\n",
       "    }\n",
       "\n",
       "    .dataframe thead th {\n",
       "        text-align: right;\n",
       "    }\n",
       "</style>\n",
       "<table border=\"1\" class=\"dataframe\">\n",
       "  <thead>\n",
       "    <tr style=\"text-align: right;\">\n",
       "      <th></th>\n",
       "      <th>pca1</th>\n",
       "      <th>pca2</th>\n",
       "      <th>pca3</th>\n",
       "    </tr>\n",
       "  </thead>\n",
       "  <tbody>\n",
       "    <tr>\n",
       "      <th>0</th>\n",
       "      <td>-3.789763e+07</td>\n",
       "      <td>-5.772528e+05</td>\n",
       "      <td>-19879.418809</td>\n",
       "    </tr>\n",
       "    <tr>\n",
       "      <th>1</th>\n",
       "      <td>2.603092e+07</td>\n",
       "      <td>-1.494489e+06</td>\n",
       "      <td>70865.677582</td>\n",
       "    </tr>\n",
       "    <tr>\n",
       "      <th>2</th>\n",
       "      <td>-1.352557e+07</td>\n",
       "      <td>-9.065668e+05</td>\n",
       "      <td>390444.310696</td>\n",
       "    </tr>\n",
       "    <tr>\n",
       "      <th>3</th>\n",
       "      <td>1.224154e+06</td>\n",
       "      <td>-1.264830e+06</td>\n",
       "      <td>362306.952321</td>\n",
       "    </tr>\n",
       "    <tr>\n",
       "      <th>4</th>\n",
       "      <td>3.942158e+07</td>\n",
       "      <td>-6.067600e+05</td>\n",
       "      <td>-643594.868257</td>\n",
       "    </tr>\n",
       "  </tbody>\n",
       "</table>\n",
       "</div>"
      ],
      "text/plain": [
       "           pca1          pca2           pca3\n",
       "0 -3.789763e+07 -5.772528e+05  -19879.418809\n",
       "1  2.603092e+07 -1.494489e+06   70865.677582\n",
       "2 -1.352557e+07 -9.065668e+05  390444.310696\n",
       "3  1.224154e+06 -1.264830e+06  362306.952321\n",
       "4  3.942158e+07 -6.067600e+05 -643594.868257"
      ]
     },
     "execution_count": 19,
     "metadata": {},
     "output_type": "execute_result"
    }
   ],
   "source": [
    "import seaborn as sns\n",
    "reduced_data = PCA(n_components=3).fit_transform(modified_final)\n",
    "results = pd.DataFrame(reduced_data,columns=['pca1','pca2','pca3'])\n",
    "results.head()\n"
   ]
  },
  {
   "cell_type": "code",
   "execution_count": 20,
   "metadata": {},
   "outputs": [
    {
     "data": {
      "image/png": "[encoded data removed]",
      "text/plain": [
       "<Figure size 432x288 with 1 Axes>"
      ]
     },
     "metadata": {
      "needs_background": "light"
     },
     "output_type": "display_data"
    }
   ],
   "source": [
    "sns.scatterplot(x=\"pca1\", y=\"pca2\", hue=labels1, data=results)\n",
    "plt.title('K-means Clustering with 2 dimensions')\n",
    "plt.show()"
   ]
  },
  {
   "cell_type": "code",
   "execution_count": 21,
   "metadata": {},
   "outputs": [
    {
     "data": {
      "image/png": "[encoded data removed]",
      "text/plain": [
       "<Figure size 432x288 with 1 Axes>"
      ]
     },
     "metadata": {
      "needs_background": "light"
     },
     "output_type": "display_data"
    }
   ],
   "source": [
    "sns.scatterplot(x=\"pca2\", y=\"pca3\", hue=labels1, data=results)\n",
    "plt.title('K-means Clustering with 2 dimensions')\n",
    "plt.show()"
   ]
  },
  {
   "cell_type": "code",
   "execution_count": null,
   "metadata": {},
   "outputs": [],
   "source": []
  },
  {
   "cell_type": "code",
   "execution_count": null,
   "metadata": {},
   "outputs": [],
   "source": []
  },
  {
   "cell_type": "code",
   "execution_count": null,
   "metadata": {},
   "outputs": [],
   "source": []
  },
  {
   "cell_type": "code",
   "execution_count": null,
   "metadata": {},
   "outputs": [],
   "source": []
  },
  {
   "cell_type": "code",
   "execution_count": null,
   "metadata": {},
   "outputs": [],
   "source": []
  },
  {
   "cell_type": "code",
   "execution_count": null,
   "metadata": {},
   "outputs": [],
   "source": []
  },
  {
   "cell_type": "code",
   "execution_count": null,
   "metadata": {},
   "outputs": [],
   "source": []
  },
  {
   "cell_type": "code",
   "execution_count": null,
   "metadata": {},
   "outputs": [],
   "source": []
  },
  {
   "cell_type": "code",
   "execution_count": null,
   "metadata": {},
   "outputs": [],
   "source": []
  },
  {
   "cell_type": "code",
   "execution_count": null,
   "metadata": {},
   "outputs": [],
   "source": []
  },
  {
   "cell_type": "code",
   "execution_count": null,
   "metadata": {},
   "outputs": [],
   "source": []
  },
  {
   "cell_type": "code",
   "execution_count": null,
   "metadata": {},
   "outputs": [],
   "source": []
  },
  {
   "cell_type": "code",
   "execution_count": null,
   "metadata": {},
   "outputs": [],
   "source": []
  },
  {
   "cell_type": "code",
   "execution_count": null,
   "metadata": {},
   "outputs": [],
   "source": []
  },
  {
   "cell_type": "code",
   "execution_count": null,
   "metadata": {},
   "outputs": [],
   "source": []
  },
  {
   "cell_type": "code",
   "execution_count": null,
   "metadata": {},
   "outputs": [],
   "source": []
  },
  {
   "cell_type": "code",
   "execution_count": null,
   "metadata": {},
   "outputs": [],
   "source": []
  },
  {
   "cell_type": "code",
   "execution_count": null,
   "metadata": {},
   "outputs": [],
   "source": []
  },
  {
   "cell_type": "code",
   "execution_count": null,
   "metadata": {},
   "outputs": [],
   "source": []
  },
  {
   "cell_type": "code",
   "execution_count": null,
   "metadata": {},
   "outputs": [],
   "source": []
  },
  {
   "cell_type": "code",
   "execution_count": null,
   "metadata": {},
   "outputs": [],
   "source": []
  },
  {
   "cell_type": "code",
   "execution_count": null,
   "metadata": {},
   "outputs": [],
   "source": []
  },
  {
   "cell_type": "code",
   "execution_count": null,
   "metadata": {},
   "outputs": [],
   "source": []
  },
  {
   "cell_type": "code",
   "execution_count": null,
   "metadata": {},
   "outputs": [],
   "source": []
  },
  {
   "cell_type": "code",
   "execution_count": null,
   "metadata": {},
   "outputs": [],
   "source": []
  },
  {
   "cell_type": "code",
   "execution_count": null,
   "metadata": {},
   "outputs": [],
   "source": []
  }
 ],
 "metadata": {
  "kernelspec": {
   "display_name": "Python 3",
   "language": "python",
   "name": "python3"
  },
  "language_info": {
   "codemirror_mode": {
    "name": "ipython",
    "version": 3
   },
   "file_extension": ".py",
   "mimetype": "text/x-python",
   "name": "python",
   "nbconvert_exporter": "python",
   "pygments_lexer": "ipython3",
   "version": "3.7.6"
  }
 },
 "nbformat": 4,
 "nbformat_minor": 4
}
